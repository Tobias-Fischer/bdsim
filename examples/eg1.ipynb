{
 "cells": [
  {
   "cell_type": "code",
   "execution_count": 1,
   "metadata": {},
   "outputs": [],
   "source": [
    "import bdsim\n",
    "%matplotlib notebook"
   ]
  },
  {
   "cell_type": "code",
   "execution_count": 2,
   "metadata": {},
   "outputs": [
    {
     "name": "stdout",
     "output_type": "stream",
     "text": [
      "Loading blocks:\n",
      "in __init__\n",
      "done __init__\n",
      "  loading blocks from functions: SUM, PROD, GAIN, CLIP, FUNCTION, INTERPOLATE, CONSTANT, WAVEFORM, PIECEWISE, STEP, PRINT, SCOPE, SCOPEXY, VEHICLEPLOT, MULTIROTORPLOT, STOP\n",
      "  loading blocks from transfers: INTEGRATOR, LTI_SS, LTI_SISO\n",
      "  loading blocks from connections: ITEM, MUX, DEMUX, SUBSYSTEM, INPORT, OUTPORT\n",
      "  loading blocks from robots: BICYCLE, UNICYCLE, DIFFSTEER, MULTIROTOR\n"
     ]
    }
   ],
   "source": [
    "bd = bdsim.BlockDiagram(sysargs=False)"
   ]
  },
  {
   "cell_type": "markdown",
   "metadata": {},
   "source": [
    "![block diagram sketch](../figs/bd1-sketch.png)\n",
    "\n",
    "First we will define the blocks"
   ]
  },
  {
   "cell_type": "code",
   "execution_count": 3,
   "metadata": {},
   "outputs": [],
   "source": [
    "demand = bd.STEP(T=1, pos=(0,0), name='demand')\n",
    "sum = bd.SUM('+-', pos=(1,0))\n",
    "gain = bd.GAIN(10, pos=(1.5,0))\n",
    "plant = bd.LTI_SISO(0.5, [2, 1], name='plant', pos=(3,0))\n",
    "#scope = bd.SCOPE(pos=(4,0), styles=[{'color': 'blue'}, {'color': 'red', 'linestyle': '--'})\n",
    "scope = bd.SCOPE(styles=['k', 'r--'], pos=(4,0))"
   ]
  },
  {
   "cell_type": "markdown",
   "metadata": {},
   "source": [
    "Then we connect the blocks"
   ]
  },
  {
   "cell_type": "code",
   "execution_count": 4,
   "metadata": {},
   "outputs": [],
   "source": [
    "bd.connect(demand, sum[0], scope[1])\n",
    "bd.connect(plant, sum[1])\n",
    "bd.connect(sum, gain)\n",
    "bd.connect(gain, plant)\n",
    "bd.connect(plant, scope[0])"
   ]
  },
  {
   "cell_type": "markdown",
   "metadata": {},
   "source": [
    "The definition is complete, we _compile_ it and print a report which lists all the blocks and connections in tabular form"
   ]
  },
  {
   "cell_type": "code",
   "execution_count": 5,
   "metadata": {},
   "outputs": [
    {
     "name": "stdout",
     "output_type": "stream",
     "text": [
      "\n",
      "Compiling:\n",
      "\n",
      "Blocks::\n",
      "\n",
      "  id  name       nin    nout    nstate  \n",
      "----  -------  -----  ------  --------  \n",
      "0     demand   0      1       0         \n",
      "1     sum.0    2      1       0         \n",
      "2     gain.0   1      1       0         \n",
      "3     plant    1      1       1         \n",
      "4     scope.0  2      0       0         \n",
      "\n",
      "Wires::\n",
      "\n",
      "  id  from    to      description               type     \n",
      "----  ------  ------  ------------------------  -------  \n",
      "0       0[0]    1[0]  demand[0] --> sum.0[0]    int      \n",
      "1       0[0]    4[1]  demand[0] --> scope.0[1]  int      \n",
      "2       3[0]    1[1]  plant[0] --> sum.0[1]     float64  \n",
      "3       1[0]    2[0]  sum.0[0] --> gain.0[0]    float64  \n",
      "4       2[0]    3[0]  gain.0[0] --> plant[0]    float64  \n",
      "5       3[0]    4[0]  plant[0] --> scope.0[0]   float64  \n",
      "\n",
      "State variables: 0\n"
     ]
    }
   ],
   "source": [
    "bd.compile()   # check the diagram\n",
    "bd.report()    # list all blocks and wires"
   ]
  },
  {
   "cell_type": "markdown",
   "metadata": {},
   "source": [
    "Now it is time to run"
   ]
  },
  {
   "cell_type": "code",
   "execution_count": 6,
   "metadata": {},
   "outputs": [
    {
     "name": "stdout",
     "output_type": "stream",
     "text": [
      "matplotlib backend is Qt5Agg\n",
      "Screen: iMac\n",
      "Size: 2560 x 1440\n",
      "Available: 2560 x 1356\n",
      "dpi 100.0\n",
      "initial state x0 =  [0.]\n",
      "                                                                                          \n"
     ]
    }
   ],
   "source": [
    "out = bd.run(5, watch=[plant])  # simulate for 5s"
   ]
  },
  {
   "cell_type": "code",
   "execution_count": 5,
   "metadata": {},
   "outputs": [],
   "source": [
    "bd.dotfile('bd1.dot')  # output a graphviz dot file\n",
    "bd.savefig('png')      # save all figures as pdf\n",
    "\n",
    "time.sleep(10)\n",
    "#bd.done(block=True)"
   ]
  },
  {
   "cell_type": "code",
   "execution_count": null,
   "metadata": {},
   "outputs": [],
   "source": []
  }
 ],
 "metadata": {
  "kernelspec": {
   "display_name": "Python 3",
   "language": "python",
   "name": "python3"
  },
  "language_info": {
   "codemirror_mode": {
    "name": "ipython",
    "version": 3
   },
   "file_extension": ".py",
   "mimetype": "text/x-python",
   "name": "python",
   "nbconvert_exporter": "python",
   "pygments_lexer": "ipython3",
   "version": "3.8.5"
  },
  "varInspector": {
   "cols": {
    "lenName": 16,
    "lenType": 16,
    "lenVar": 40
   },
   "kernels_config": {
    "python": {
     "delete_cmd_postfix": "",
     "delete_cmd_prefix": "del ",
     "library": "var_list.py",
     "varRefreshCmd": "print(var_dic_list())"
    },
    "r": {
     "delete_cmd_postfix": ") ",
     "delete_cmd_prefix": "rm(",
     "library": "var_list.r",
     "varRefreshCmd": "cat(var_dic_list()) "
    }
   },
   "types_to_exclude": [
    "module",
    "function",
    "builtin_function_or_method",
    "instance",
    "_Feature"
   ],
   "window_display": false
  }
 },
 "nbformat": 4,
 "nbformat_minor": 4
}
